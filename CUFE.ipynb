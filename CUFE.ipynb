{
 "cells": [
  {
   "cell_type": "code",
   "execution_count": null,
   "id": "a168747f",
   "metadata": {},
   "outputs": [],
   "source": [
    "!pip install selenium\n",
    "!pip install pyautogui\n",
    "!pip install openpyxl"
   ]
  },
  {
   "cell_type": "code",
   "execution_count": 11,
   "id": "a37db6a2",
   "metadata": {},
   "outputs": [
    {
     "name": "stdout",
     "output_type": "stream",
     "text": [
      "CUFE's cargados\n",
      "Búsqueda finalizada\n",
      "Registro finalizado\n"
     ]
    }
   ],
   "source": [
    "import re\n",
    "import time\n",
    "import locale\n",
    "import pyautogui\n",
    "from datetime import datetime\n",
    "from selenium import webdriver\n",
    "from selenium.webdriver.common.by import By\n",
    "from selenium.webdriver.support.ui import WebDriverWait\n",
    "from selenium.webdriver.support import expected_conditions as EC\n",
    "import openpyxl\n",
    "\n",
    "def find_and_send_keys(id, key):\n",
    "    time.sleep(0.5)\n",
    "    element = wait.until(EC.presence_of_element_located((By.ID, id)))\n",
    "    element.send_keys(key)\n",
    "\n",
    "def change_cell_background(sheet, cell_range, color):\n",
    "    for row in sheet.iter_rows(min_row=cell_range[0], max_row=cell_range[1], min_col=cell_range[2], max_col=cell_range[3]):\n",
    "        for cell in row:\n",
    "            cell.fill = openpyxl.styles.PatternFill(start_color=color, end_color=color, fill_type=\"solid\")\n",
    "\n",
    "locale.setlocale(locale.LC_TIME, 'es_ES.UTF-8')\n",
    "start = datetime.now()\n",
    "format_date_time = \"%B %Y\"\n",
    "\n",
    "# Archivo Excel local\n",
    "excel_file_path = f'./CUFE NOKIA {start.strftime(format_date_time).upper()}.xlsx'\n",
    "cufe_column_index = 2  # Columna con los CUFEs\n",
    "hoja_nombre = \"CORTE DIAN\"  # Nombre de la hoja\n",
    "wb = openpyxl.load_workbook(excel_file_path)\n",
    "ws = wb[hoja_nombre]\n",
    "\n",
    "# Leer toda la columna de CUFEs y almacenarla en una lista\n",
    "cufe_list = [str(ws.cell(row=row_num, column=cufe_column_index).value) for row_num in range(2, ws.max_row + 1)]\n",
    "print(\"CUFE's cargados\")\n",
    "#wb.close()\n",
    "# Lista para almacenar resultados True/False\n",
    "result_list = []\n",
    "\n",
    "driver = webdriver.Chrome()\n",
    "wait = WebDriverWait(driver, 20)\n",
    "\n",
    "for cufe in cufe_list:\n",
    "    if cufe == \"None\":\n",
    "        break\n",
    "    driver.get('https://catalogo-vpfe.dian.gov.co/User/SearchDocument')\n",
    "    time.sleep(0.5)\n",
    "    find_and_send_keys(\"DocumentKey\", cufe)\n",
    "    time.sleep(0.5)\n",
    "    pyautogui.press('enter')\n",
    "    time.sleep(0.2)\n",
    "    while True:\n",
    "        page_source = driver.page_source\n",
    "        if re.search(r\"Recaptcha inválido.\", page_source):\n",
    "            time.sleep(1)\n",
    "            pyautogui.press('enter')\n",
    "        else:\n",
    "            break\n",
    "    time.sleep(0.3)\n",
    "    page_source = driver.page_source\n",
    "\n",
    "    if re.search(r\"Aceptación expresa de la Factura Electrónica de Venta\", page_source):\n",
    "        #print(f\"El texto se encontró para el CUFE {cufe}.\")\n",
    "        result_list.append(True)\n",
    "    else:\n",
    "        #print(f\"El texto NO se encontró para el CUFE {cufe}.\")\n",
    "        result_list.append(False)\n",
    "driver.quit()\n",
    "print(\"Búsqueda finalizada\")\n",
    "columna_q = ws['Q'][1:]\n",
    "for valor_booleano, celda in zip(result_list, columna_q):\n",
    "    celda.value = valor_booleano\n",
    "wb.save(\"CUFE NOKIA {start.strftime(format_date_time).upper()}.xlsx\")\n",
    "wb.close()\n",
    "print(\"Registro finalizado\")"
   ]
  }
 ],
 "metadata": {
  "kernelspec": {
   "display_name": "Python 3 (ipykernel)",
   "language": "python",
   "name": "python3"
  },
  "language_info": {
   "codemirror_mode": {
    "name": "ipython",
    "version": 3
   },
   "file_extension": ".py",
   "mimetype": "text/x-python",
   "name": "python",
   "nbconvert_exporter": "python",
   "pygments_lexer": "ipython3",
   "version": "3.11.5"
  }
 },
 "nbformat": 4,
 "nbformat_minor": 5
}
